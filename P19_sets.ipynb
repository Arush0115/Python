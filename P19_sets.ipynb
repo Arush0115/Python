{
  "nbformat": 4,
  "nbformat_minor": 0,
  "metadata": {
    "colab": {
      "provenance": [],
      "authorship_tag": "ABX9TyO/R0K2Yq+DtBcpozE8jjUG",
      "include_colab_link": true
    },
    "kernelspec": {
      "name": "python3",
      "display_name": "Python 3"
    },
    "language_info": {
      "name": "python"
    }
  },
  "cells": [
    {
      "cell_type": "markdown",
      "metadata": {
        "id": "view-in-github",
        "colab_type": "text"
      },
      "source": [
        "<a href=\"https://colab.research.google.com/github/Arush0115/Python/blob/master/P19_sets.ipynb\" target=\"_parent\"><img src=\"https://colab.research.google.com/assets/colab-badge.svg\" alt=\"Open In Colab\"/></a>"
      ]
    },
    {
      "cell_type": "code",
      "execution_count": null,
      "metadata": {
        "colab": {
          "base_uri": "https://localhost:8080/"
        },
        "id": "wtp0Klxub_SW",
        "outputId": "e8d8681f-6bdf-4cd2-a2fa-ef4403c98ff8"
      },
      "outputs": [
        {
          "output_type": "stream",
          "name": "stdout",
          "text": [
            "{3, 1, 'hello', 4} <class 'set'>\n"
          ]
        }
      ],
      "source": [
        "#sets\n",
        "#unordered collection of unique items\n",
        "s={1,4,'hello',3}\n",
        "print(s,type(s))"
      ]
    },
    {
      "cell_type": "code",
      "source": [
        "#Empty set\n",
        "s=set()\n",
        "print(s,type(s))"
      ],
      "metadata": {
        "colab": {
          "base_uri": "https://localhost:8080/"
        },
        "id": "yftbJthmdGQq",
        "outputId": "5a5b694a-f45b-47cc-ed67-6398d2fcb25b"
      },
      "execution_count": null,
      "outputs": [
        {
          "output_type": "stream",
          "name": "stdout",
          "text": [
            "set() <class 'set'>\n"
          ]
        }
      ]
    },
    {
      "cell_type": "code",
      "source": [
        "#Sets only stores unique values\n",
        "s={3,4,3,3,4,5,6,8,8,6,5,3,32,4}\n",
        "print(s)"
      ],
      "metadata": {
        "colab": {
          "base_uri": "https://localhost:8080/"
        },
        "id": "k1KlxkIWdccB",
        "outputId": "e9956bc0-2ff3-4a8a-d5b4-7d78838d0dbe"
      },
      "execution_count": null,
      "outputs": [
        {
          "output_type": "stream",
          "name": "stdout",
          "text": [
            "{32, 3, 4, 5, 6, 8}\n"
          ]
        }
      ]
    },
    {
      "cell_type": "code",
      "source": [
        "#Methods in sets:\n",
        "#add()\n",
        "#remove()\n",
        "#in\n",
        "\n"
      ],
      "metadata": {
        "id": "6Cps_NW0ehFy"
      },
      "execution_count": null,
      "outputs": []
    },
    {
      "cell_type": "code",
      "source": [
        "#add\n",
        "s={1,3,2,4,5,6,3,2,5,3,5,3}\n",
        "print(s)\n",
        "s.add(100)\n",
        "print(s)"
      ],
      "metadata": {
        "colab": {
          "base_uri": "https://localhost:8080/"
        },
        "id": "LIPCU2NYfxiH",
        "outputId": "97a31dee-459d-43bf-c0e4-7cd7c8986eda"
      },
      "execution_count": null,
      "outputs": [
        {
          "output_type": "stream",
          "name": "stdout",
          "text": [
            "{1, 2, 3, 4, 5, 6}\n",
            "{1, 2, 3, 4, 5, 6, 100}\n"
          ]
        }
      ]
    },
    {
      "cell_type": "code",
      "source": [
        "s={1,3,2,4,5,6,3,2,5,3,5,3}\n",
        "print(s)\n",
        "s.remove(2)\n",
        "print(s)\n",
        "\n",
        "\n",
        "#in\n",
        "10 in s"
      ],
      "metadata": {
        "colab": {
          "base_uri": "https://localhost:8080/"
        },
        "id": "URUCiLePgLjM",
        "outputId": "34028937-344e-4ba4-cfc8-e149a75dfd8e"
      },
      "execution_count": null,
      "outputs": [
        {
          "output_type": "stream",
          "name": "stdout",
          "text": [
            "{1, 2, 3, 4, 5, 6}\n",
            "{1, 3, 4, 5, 6}\n"
          ]
        },
        {
          "output_type": "execute_result",
          "data": {
            "text/plain": [
              "False"
            ]
          },
          "metadata": {},
          "execution_count": 8
        }
      ]
    },
    {
      "cell_type": "code",
      "source": [
        "s={1,3,2,4,5,6,3,2,5,3,5,3}\n",
        "for x in s:\n",
        "  print(x,end=\" \")"
      ],
      "metadata": {
        "colab": {
          "base_uri": "https://localhost:8080/"
        },
        "id": "50NUpNg3gwXF",
        "outputId": "49415909-fb6f-4662-c3ad-d7461ddfdba4"
      },
      "execution_count": null,
      "outputs": [
        {
          "output_type": "stream",
          "name": "stdout",
          "text": [
            "1 2 3 4 5 6 "
          ]
        }
      ]
    },
    {
      "cell_type": "code",
      "source": [
        "#Set theory\n",
        "A={\n",
        "    'Arush',\n",
        "    'kaushal',\n",
        "   'ak'\n",
        "}\n",
        "B={\n",
        "    'kk',\n",
        "     'jj',\n",
        "     'ak'\n",
        "}\n",
        "print(A&B)\n",
        "print(A.intersection(B), B.intersection(A))\n",
        "print(A-B)\n",
        "print(A^B)"
      ],
      "metadata": {
        "colab": {
          "base_uri": "https://localhost:8080/"
        },
        "id": "0gugnbPViL0V",
        "outputId": "afcff437-af99-4ab3-ee51-d0586e68a261"
      },
      "execution_count": null,
      "outputs": [
        {
          "output_type": "stream",
          "name": "stdout",
          "text": [
            "{'ak'}\n",
            "{'ak'} {'ak'}\n",
            "{'kaushal', 'Arush'}\n",
            "{'jj', 'kk', 'kaushal', 'Arush'}\n"
          ]
        }
      ]
    },
    {
      "cell_type": "code",
      "source": [
        "\n",
        "#Given an array count unique elements\n",
        "def CountUnique(ls):\n",
        "  s=set(ls)\n",
        "  print(s)\n",
        "CountUnique([4,5,6,4,3,5])  "
      ],
      "metadata": {
        "colab": {
          "base_uri": "https://localhost:8080/"
        },
        "id": "oCTJ-R4ajV_V",
        "outputId": "e3324474-d61c-44f8-dc5c-44479e53c32c"
      },
      "execution_count": null,
      "outputs": [
        {
          "output_type": "stream",
          "name": "stdout",
          "text": [
            "{3, 4, 5, 6}\n"
          ]
        }
      ]
    }
  ]
}