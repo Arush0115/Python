{
  "nbformat": 4,
  "nbformat_minor": 0,
  "metadata": {
    "colab": {
      "provenance": [],
      "authorship_tag": "ABX9TyMNyPVwJj84AmwpYSl+FyNN",
      "include_colab_link": true
    },
    "kernelspec": {
      "name": "python3",
      "display_name": "Python 3"
    },
    "language_info": {
      "name": "python"
    }
  },
  "cells": [
    {
      "cell_type": "markdown",
      "metadata": {
        "id": "view-in-github",
        "colab_type": "text"
      },
      "source": [
        "<a href=\"https://colab.research.google.com/github/Arush0115/Python/blob/master/PythonRefresher2.ipynb\" target=\"_parent\"><img src=\"https://colab.research.google.com/assets/colab-badge.svg\" alt=\"Open In Colab\"/></a>"
      ]
    },
    {
      "cell_type": "code",
      "execution_count": null,
      "metadata": {
        "id": "W-fiCpjc5fOv"
      },
      "outputs": [],
      "source": [
        "#for loop,while loop,iteration protocol\n",
        "#Lists\n",
        "#Shallow vs deep copy\n",
        "#Append vs extend\n",
        "#Nested List\n",
        "\n"
      ]
    },
    {
      "cell_type": "code",
      "source": [
        "#print first 10 positive integers\n",
        "a=10\n",
        "for i in range(a):\n",
        "  print(i+1,end=' ')\n",
        "   "
      ],
      "metadata": {
        "colab": {
          "base_uri": "https://localhost:8080/"
        },
        "id": "ueknJc175-RH",
        "outputId": "1c4138f3-52e4-460f-8070-4eef10fad621"
      },
      "execution_count": 3,
      "outputs": [
        {
          "output_type": "stream",
          "name": "stdout",
          "text": [
            "1 2 3 4 5 6 7 8 9 10 "
          ]
        }
      ]
    },
    {
      "cell_type": "code",
      "source": [
        "#print all chractes of a string\n",
        "a='Hello'\n",
        "for i in a:\n",
        "  print(i,end=' ')"
      ],
      "metadata": {
        "colab": {
          "base_uri": "https://localhost:8080/"
        },
        "id": "uasFOG6s6YE8",
        "outputId": "a5a7746a-fce7-4d86-8291-93d055acc55e"
      },
      "execution_count": 9,
      "outputs": [
        {
          "output_type": "stream",
          "name": "stdout",
          "text": [
            "H e l l o "
          ]
        }
      ]
    },
    {
      "cell_type": "code",
      "source": [
        "#Take input N and print from N to 1.\n",
        "n=int(input())\n",
        "while n>=1:\n",
        "  print(n,end='')\n",
        "  n=n-1\n"
      ],
      "metadata": {
        "colab": {
          "base_uri": "https://localhost:8080/"
        },
        "id": "lZGQ0DLu7ADx",
        "outputId": "cb029ef4-e801-4158-e1fc-8249e6f62143"
      },
      "execution_count": 12,
      "outputs": [
        {
          "output_type": "stream",
          "name": "stdout",
          "text": [
            "4\n",
            "4321"
          ]
        }
      ]
    },
    {
      "cell_type": "code",
      "source": [
        "#Reverse a number\n",
        "#1024\n",
        "#4201\n",
        "n=input()\n",
        "reverse=int(n[::-1])\n",
        "print(reverse)"
      ],
      "metadata": {
        "colab": {
          "base_uri": "https://localhost:8080/"
        },
        "id": "3q7VMNbq8rae",
        "outputId": "cb918544-995f-4d7c-f411-d28472050686"
      },
      "execution_count": 20,
      "outputs": [
        {
          "output_type": "stream",
          "name": "stdout",
          "text": [
            "123\n",
            "321\n"
          ]
        }
      ]
    },
    {
      "cell_type": "code",
      "source": [
        "#How to solve questions with T test cases\n",
        "T=int(input())\n",
        "t=1\n",
        "while t<=T:\n",
        "  n=input()\n",
        "  reverse=int(n[::-1])\n",
        "  print(reverse)\n",
        "  t=t+1"
      ],
      "metadata": {
        "colab": {
          "base_uri": "https://localhost:8080/"
        },
        "id": "gSI9pqmO-lzs",
        "outputId": "998530e1-3c9c-43b7-a326-1f1b28829596"
      },
      "execution_count": 21,
      "outputs": [
        {
          "output_type": "stream",
          "name": "stdout",
          "text": [
            "3\n",
            "123\n",
            "321\n",
            "321\n",
            "123\n",
            "456\n",
            "654\n"
          ]
        }
      ]
    },
    {
      "cell_type": "code",
      "source": [
        "#Multi Line code\n",
        "x=12 +43-54+23 \\\n",
        "+12*4+5\n",
        "print(x)"
      ],
      "metadata": {
        "colab": {
          "base_uri": "https://localhost:8080/"
        },
        "id": "PoDlZQq_A8Dl",
        "outputId": "cdea8dc5-ce9b-4a21-a016-4e75728c1345"
      },
      "execution_count": 22,
      "outputs": [
        {
          "output_type": "stream",
          "name": "stdout",
          "text": [
            "77\n"
          ]
        }
      ]
    },
    {
      "cell_type": "code",
      "source": [
        " #*\n",
        " #**\n",
        " #***\n",
        " #****\n",
        " n=4\n",
        " for i in range(n):\n",
        "   for j in range(i+1):\n",
        "     print('*',end='')\n",
        "   print()  "
      ],
      "metadata": {
        "colab": {
          "base_uri": "https://localhost:8080/"
        },
        "id": "uDgVsI-WDYZl",
        "outputId": "39bf0c0b-8827-4745-fdd2-96dd1f75a146"
      },
      "execution_count": 28,
      "outputs": [
        {
          "output_type": "stream",
          "name": "stdout",
          "text": [
            "*\n",
            "**\n",
            "***\n",
            "****\n"
          ]
        }
      ]
    },
    {
      "cell_type": "code",
      "source": [
        "#Range\n",
        "\n",
        "print(list(range(5,0,-1)))"
      ],
      "metadata": {
        "colab": {
          "base_uri": "https://localhost:8080/"
        },
        "id": "z_7A7B9sFnfJ",
        "outputId": "72918f6f-54b6-4fc0-93a4-889baa29aad4"
      },
      "execution_count": 36,
      "outputs": [
        {
          "output_type": "stream",
          "name": "stdout",
          "text": [
            "[5, 4, 3, 2, 1]\n"
          ]
        }
      ]
    },
    {
      "cell_type": "code",
      "source": [
        "#List\n",
        "marks=[1,4,3,5,30]\n",
        "print(marks,type(marks))\n",
        "marks[3]+=3\n",
        "print(marks)\n",
        "val=marks.pop()\n",
        "print(marks)\n",
        "marks_2=[23,53,44]\n",
        "marks=marks+marks_2\n",
        "print(marks)\n",
        "\n"
      ],
      "metadata": {
        "colab": {
          "base_uri": "https://localhost:8080/"
        },
        "id": "m80-362Zshzq",
        "outputId": "27fc533f-d66c-43c0-b67a-941cb6701743"
      },
      "execution_count": 11,
      "outputs": [
        {
          "output_type": "stream",
          "name": "stdout",
          "text": [
            "[1, 4, 3, 5, 30] <class 'list'>\n",
            "[1, 4, 3, 8, 30]\n",
            "[1, 4, 3, 8]\n",
            "None\n"
          ]
        }
      ]
    },
    {
      "cell_type": "code",
      "source": [
        "#slicing\n",
        "marks=[12,43,54,3,22,43,2354,54,23,67,7]\n",
        "print(marks[::2])"
      ],
      "metadata": {
        "colab": {
          "base_uri": "https://localhost:8080/"
        },
        "id": "WnEzMXJ6vZQq",
        "outputId": "61e71a24-014b-4908-dfc2-ba1127069400"
      },
      "execution_count": 13,
      "outputs": [
        {
          "output_type": "stream",
          "name": "stdout",
          "text": [
            "[12, 54, 22, 2354, 23, 7]\n"
          ]
        }
      ]
    },
    {
      "cell_type": "code",
      "source": [
        "#Enumerate\n",
        "marks=[10,32,43,54,5]\n",
        "i=1\n",
        "for val in marks:\n",
        "  print(f\"{i} value is {val}\")\n",
        "  i=i+1\n",
        "\n",
        "for i, val in enumerate(marks):\n",
        "  print(f\"{i} value is {val}\")\n",
        "  i=i+1  "
      ],
      "metadata": {
        "colab": {
          "base_uri": "https://localhost:8080/"
        },
        "id": "OjUsw-4nxoKO",
        "outputId": "947a9346-e88b-4664-c90d-07d7696141f1"
      },
      "execution_count": 25,
      "outputs": [
        {
          "output_type": "stream",
          "name": "stdout",
          "text": [
            "1 value is 10\n",
            "2 value is 32\n",
            "3 value is 43\n",
            "4 value is 54\n",
            "5 value is 5\n",
            "0 value is 10\n",
            "1 value is 32\n",
            "2 value is 43\n",
            "3 value is 54\n",
            "4 value is 5\n"
          ]
        }
      ]
    },
    {
      "cell_type": "code",
      "source": [
        "#Iteration Protocol\n",
        "#Applicable for iterables\n",
        "#iter,next -> Function on each iterable\n",
        "marks=[10,230,23,43]\n",
        "a=iter(marks)\n",
        "print(a,type(a))\n"
      ],
      "metadata": {
        "colab": {
          "base_uri": "https://localhost:8080/"
        },
        "id": "OnRezEqEzZfw",
        "outputId": "5cc6bc09-363c-4d16-bc3e-7a2aa096594a"
      },
      "execution_count": 31,
      "outputs": [
        {
          "output_type": "stream",
          "name": "stdout",
          "text": [
            "<list_iterator object at 0x7f598e2d8d00> <class 'list_iterator'>\n",
            "10\n"
          ]
        }
      ]
    },
    {
      "cell_type": "code",
      "source": [
        "print(next(a)) #to iterate over next values\n"
      ],
      "metadata": {
        "colab": {
          "base_uri": "https://localhost:8080/",
          "height": 171
        },
        "id": "VvuDR3GD498F",
        "outputId": "cd3a9e01-2bba-4b34-cf1d-da0145bff046"
      },
      "execution_count": 36,
      "outputs": [
        {
          "output_type": "error",
          "ename": "StopIteration",
          "evalue": "ignored",
          "traceback": [
            "\u001b[0;31m---------------------------------------------------------------------------\u001b[0m",
            "\u001b[0;31mStopIteration\u001b[0m                             Traceback (most recent call last)",
            "\u001b[0;32m<ipython-input-36-94b12d3903f7>\u001b[0m in \u001b[0;36m<module>\u001b[0;34m\u001b[0m\n\u001b[0;32m----> 1\u001b[0;31m \u001b[0mprint\u001b[0m\u001b[0;34m(\u001b[0m\u001b[0mnext\u001b[0m\u001b[0;34m(\u001b[0m\u001b[0ma\u001b[0m\u001b[0;34m)\u001b[0m\u001b[0;34m)\u001b[0m\u001b[0;34m\u001b[0m\u001b[0;34m\u001b[0m\u001b[0m\n\u001b[0m",
            "\u001b[0;31mStopIteration\u001b[0m: "
          ]
        }
      ]
    },
    {
      "cell_type": "code",
      "source": [
        "#Shallow copy vs Deep copy\n",
        "#Different variable name for same object\n",
        "a=[10,20,40]\n",
        "b=a\n",
        "print(id(a),id(b))"
      ],
      "metadata": {
        "colab": {
          "base_uri": "https://localhost:8080/"
        },
        "id": "VrlvCLur5ZY0",
        "outputId": "b310356f-0861-45e1-d83f-bc5b70b1071f"
      },
      "execution_count": 37,
      "outputs": [
        {
          "output_type": "stream",
          "name": "stdout",
          "text": [
            "140022613978112 140022613978112\n"
          ]
        }
      ]
    },
    {
      "cell_type": "code",
      "source": [
        "#Deep Copy\n",
        "#A new object copy made from an object\n",
        "a=[10,20,30]\n",
        "b=a[:]\n",
        "print(id(a),id(b))"
      ],
      "metadata": {
        "colab": {
          "base_uri": "https://localhost:8080/"
        },
        "id": "1G8d1Kau7QqJ",
        "outputId": "b2a2b4f4-719d-48de-b0bd-8ba2f6202b64"
      },
      "execution_count": 38,
      "outputs": [
        {
          "output_type": "stream",
          "name": "stdout",
          "text": [
            "140022613559616 140022613560192\n"
          ]
        }
      ]
    }
  ]
}