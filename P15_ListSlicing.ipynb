{
  "nbformat": 4,
  "nbformat_minor": 0,
  "metadata": {
    "colab": {
      "provenance": [],
      "authorship_tag": "ABX9TyOzJaIsvErOhSGi83GnnjuA",
      "include_colab_link": true
    },
    "kernelspec": {
      "name": "python3",
      "display_name": "Python 3"
    },
    "language_info": {
      "name": "python"
    }
  },
  "cells": [
    {
      "cell_type": "markdown",
      "metadata": {
        "id": "view-in-github",
        "colab_type": "text"
      },
      "source": [
        "<a href=\"https://colab.research.google.com/github/Arush0115/Python/blob/master/P15_ListSlicing.ipynb\" target=\"_parent\"><img src=\"https://colab.research.google.com/assets/colab-badge.svg\" alt=\"Open In Colab\"/></a>"
      ]
    },
    {
      "cell_type": "code",
      "execution_count": null,
      "metadata": {
        "id": "YlYd40zUm955"
      },
      "outputs": [],
      "source": [
        "def divisible(lst):\n",
        "    ''' input:lst-List of elements in integer format\n",
        "         output:Return the list of elements divisible by 5 and 7'''\n",
        "    \n",
        "    elements=[]\n",
        "    # YOUR CODE GOES HERE\n",
        "    for i in lst:\n",
        "        if i%5==0 and i%7==0:\n",
        "\n",
        "            elements.append(i)\n",
        "\n",
        "    \n",
        "    return elements"
      ]
    }
  ]
}