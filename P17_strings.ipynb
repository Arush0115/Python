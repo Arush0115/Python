{
  "nbformat": 4,
  "nbformat_minor": 0,
  "metadata": {
    "colab": {
      "provenance": [],
      "authorship_tag": "ABX9TyO4rz4aqJgAIWY1xMah2TsA",
      "include_colab_link": true
    },
    "kernelspec": {
      "name": "python3",
      "display_name": "Python 3"
    },
    "language_info": {
      "name": "python"
    }
  },
  "cells": [
    {
      "cell_type": "markdown",
      "metadata": {
        "id": "view-in-github",
        "colab_type": "text"
      },
      "source": [
        "<a href=\"https://colab.research.google.com/github/Arush0115/Python/blob/master/P17_strings.ipynb\" target=\"_parent\"><img src=\"https://colab.research.google.com/assets/colab-badge.svg\" alt=\"Open In Colab\"/></a>"
      ]
    },
    {
      "cell_type": "code",
      "execution_count": null,
      "metadata": {
        "colab": {
          "base_uri": "https://localhost:8080/"
        },
        "id": "ip2479l2Kw0I",
        "outputId": "920e66ce-89f6-40f1-e152-8358d2501c78"
      },
      "outputs": [
        {
          "output_type": "stream",
          "name": "stdout",
          "text": [
            "I,N,D,I,A,"
          ]
        }
      ],
      "source": [
        "S='INDIA'\n",
        "for i in S:\n",
        "  print(i,end=',')"
      ]
    },
    {
      "cell_type": "code",
      "source": [
        "#number of vowels and consonents\n",
        "#a,e,i,o,u-vowels\n",
        "#all other alphabets -consonents\n",
        "cnt=0\n",
        "ccnt=0\n",
        "A= 'myself arush kaushal'\n",
        "for i in range(0,len(A)):\n",
        "  if A[i] in ('a','e','i','o','u'):\n",
        "    cnt=cnt+1\n",
        "  elif(A[i]>'a' or A[i]<'z'):\n",
        "    ccnt=ccnt+1\n",
        "\n",
        "return(cnt,ccnt)\n",
        "\n",
        "\n",
        "\n",
        "\n",
        "\n"
      ],
      "metadata": {
        "colab": {
          "base_uri": "https://localhost:8080/"
        },
        "id": "eHiND-CHchOJ",
        "outputId": "8565ba9f-13bd-4b27-e509-e0e312787208"
      },
      "execution_count": null,
      "outputs": [
        {
          "output_type": "stream",
          "name": "stdout",
          "text": [
            "6 14\n"
          ]
        }
      ]
    },
    {
      "cell_type": "code",
      "source": [
        "A='interviewbit'\n",
        "for i in A:\n",
        "  A=A[::-1]\n",
        "  print(A)\n"
      ],
      "metadata": {
        "colab": {
          "base_uri": "https://localhost:8080/"
        },
        "id": "u8UQ0lk4jDRs",
        "outputId": "eeffb258-6c0e-421a-b13a-3b2ee367242c"
      },
      "execution_count": null,
      "outputs": [
        {
          "output_type": "stream",
          "name": "stdout",
          "text": [
            "tibweivretni\n",
            "interviewbit\n",
            "tibweivretni\n",
            "interviewbit\n",
            "tibweivretni\n",
            "interviewbit\n",
            "tibweivretni\n",
            "interviewbit\n",
            "tibweivretni\n",
            "interviewbit\n",
            "tibweivretni\n",
            "interviewbit\n"
          ]
        }
      ]
    },
    {
      "cell_type": "code",
      "source": [
        "s='Hello world'\n",
        "s=s.replace('world','everyone')\n",
        "print(s)"
      ],
      "metadata": {
        "colab": {
          "base_uri": "https://localhost:8080/"
        },
        "id": "6r2BmtHiax3a",
        "outputId": "72b20a34-212b-4197-9476-31e751277b9a"
      },
      "execution_count": null,
      "outputs": [
        {
          "output_type": "stream",
          "name": "stdout",
          "text": [
            "Hello everyone\n"
          ]
        }
      ]
    },
    {
      "cell_type": "code",
      "source": [
        "s='hello'\n",
        "s=s.replace('h','H')\n",
        "print(s)"
      ],
      "metadata": {
        "colab": {
          "base_uri": "https://localhost:8080/"
        },
        "id": "bilz999Sa_Qv",
        "outputId": "56bd0307-090b-4483-82a9-33e0840625d2"
      },
      "execution_count": null,
      "outputs": [
        {
          "output_type": "stream",
          "name": "stdout",
          "text": [
            "Hello\n"
          ]
        }
      ]
    },
    {
      "cell_type": "code",
      "source": [
        "s='hello'\n",
        "s=list(s)\n",
        "print(s)"
      ],
      "metadata": {
        "colab": {
          "base_uri": "https://localhost:8080/"
        },
        "id": "sodVxe4PgCUA",
        "outputId": "d57f3987-eb69-4f68-b061-a6ed197fcac6"
      },
      "execution_count": null,
      "outputs": [
        {
          "output_type": "stream",
          "name": "stdout",
          "text": [
            "['h', 'e', 'l', 'l', 'o']\n"
          ]
        }
      ]
    },
    {
      "cell_type": "code",
      "source": [
        "l=list(s)\n",
        "sj='_'.join(l)\n",
        "\n",
        "print(sj)"
      ],
      "metadata": {
        "colab": {
          "base_uri": "https://localhost:8080/"
        },
        "id": "Q_xmY8m-gYFi",
        "outputId": "e368f254-a80f-4137-e644-cc2b2bd9e50b"
      },
      "execution_count": null,
      "outputs": [
        {
          "output_type": "stream",
          "name": "stdout",
          "text": [
            "h_e_l_l_o\n"
          ]
        }
      ]
    },
    {
      "cell_type": "code",
      "source": [
        "s='Arush is  awesome'\n",
        "l=s.split()\n",
        "l=l[::-1]\n",
        "s=' '.join(l)\n",
        "print(s)\n"
      ],
      "metadata": {
        "colab": {
          "base_uri": "https://localhost:8080/"
        },
        "id": "qgKBNeU3g9cq",
        "outputId": "cf83975e-d4d8-4673-acca-ce03dcc7c0e3"
      },
      "execution_count": null,
      "outputs": [
        {
          "output_type": "stream",
          "name": "stdout",
          "text": [
            "awesome is Arush\n"
          ]
        }
      ]
    },
    {
      "cell_type": "code",
      "source": [],
      "metadata": {
        "id": "CVMeQYQ1nGaH"
      },
      "execution_count": null,
      "outputs": []
    }
  ]
}