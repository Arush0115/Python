{
  "nbformat": 4,
  "nbformat_minor": 0,
  "metadata": {
    "colab": {
      "provenance": [],
      "authorship_tag": "ABX9TyPQHubWwQfiNhKc8uKhv7Do",
      "include_colab_link": true
    },
    "kernelspec": {
      "name": "python3",
      "display_name": "Python 3"
    },
    "language_info": {
      "name": "python"
    }
  },
  "cells": [
    {
      "cell_type": "markdown",
      "metadata": {
        "id": "view-in-github",
        "colab_type": "text"
      },
      "source": [
        "<a href=\"https://colab.research.google.com/github/Arush0115/Python/blob/master/P20_Dictionary.ipynb\" target=\"_parent\"><img src=\"https://colab.research.google.com/assets/colab-badge.svg\" alt=\"Open In Colab\"/></a>"
      ]
    },
    {
      "cell_type": "code",
      "execution_count": null,
      "metadata": {
        "colab": {
          "base_uri": "https://localhost:8080/"
        },
        "id": "h5oN80n0dXGZ",
        "outputId": "b78b2709-1ca9-41e5-9706-a309a2ae4a79"
      },
      "outputs": [
        {
          "output_type": "stream",
          "name": "stdout",
          "text": [
            "{'Dal Makhni': 500, 'roti': 50, 'Panner': 250} <class 'dict'>\n"
          ]
        }
      ],
      "source": [
        "#Dictionary\n",
        "menu={\n",
        "    'Dal Makhni':500,\n",
        "    'roti':50,\n",
        "    'Panner':250\n",
        "}\n",
        "print(menu,type(menu))"
      ]
    },
    {
      "cell_type": "code",
      "source": [],
      "metadata": {
        "id": "WfJHPpwcpy41"
      },
      "execution_count": null,
      "outputs": []
    },
    {
      "cell_type": "code",
      "source": [
        "d={\n",
        "    1.2:'heloo',\n",
        "    'Yolo':'traveller'\n",
        "    ,2.3:'padadda',\n",
        "    1:['Helo','None','False']\n",
        "}\n",
        "print(d)"
      ],
      "metadata": {
        "colab": {
          "base_uri": "https://localhost:8080/"
        },
        "id": "_X_k95RweCKj",
        "outputId": "81c396c5-c918-4e57-85e6-9053fc7a6413"
      },
      "execution_count": null,
      "outputs": [
        {
          "output_type": "stream",
          "name": "stdout",
          "text": [
            "{1.2: 'heloo', 'Yolo': 'traveller', 2.3: 'padadda', 1: ['Helo', 'None', 'False']}\n"
          ]
        }
      ]
    },
    {
      "cell_type": "code",
      "source": [
        "#Reading values\n",
        "#get\n",
        "#square brackets\n",
        "menu={\n",
        "    'Dal Makhni':500,\n",
        "    'roti':50,\n",
        "    'Panner':250\n",
        "}\n",
        "print(menu['Panner'])\n",
        "print(menu.get('panner'))\n",
        "print(menu.get('Panner'))\n",
        "print(menu.get('Pizza',1000))"
      ],
      "metadata": {
        "colab": {
          "base_uri": "https://localhost:8080/"
        },
        "id": "RHbRAMZieqI9",
        "outputId": "d021583c-33db-470d-99c2-b889af8d0be4"
      },
      "execution_count": null,
      "outputs": [
        {
          "output_type": "stream",
          "name": "stdout",
          "text": [
            "250\n",
            "None\n",
            "250\n",
            "1000\n"
          ]
        }
      ]
    },
    {
      "cell_type": "code",
      "source": [
        "#we can use key to get value but cannot use value to get key.\n",
        "\n",
        "#Updation and Addition\n",
        "shimla={\n",
        "    'mall':'shimla01',\n",
        "    'chota_shimla':'shimla02',\n",
        "    'khalini':'shimla03'\n",
        "}\n",
        "shimla['mall']='shimla-1'\n",
        "print(shimla)\n",
        "\n",
        "#Adding a new entry\n",
        "shimla['panthaghati']='shimla-9'\n",
        "print(shimla)\n"
      ],
      "metadata": {
        "colab": {
          "base_uri": "https://localhost:8080/"
        },
        "id": "JDgQ4AIggw5k",
        "outputId": "23a62029-8550-4938-a325-d9887f28b4dd"
      },
      "execution_count": null,
      "outputs": [
        {
          "output_type": "stream",
          "name": "stdout",
          "text": [
            "{'mall': 'shimla-1', 'chota_shimla': 'shimla02', 'khalini': 'shimla03'}\n",
            "{'mall': 'shimla-1', 'chota_shimla': 'shimla02', 'khalini': 'shimla03', 'panthaghati': 'shimla-9'}\n"
          ]
        }
      ]
    },
    {
      "cell_type": "code",
      "source": [
        "#Removing entries\n",
        "#pop\n",
        "#del\n"
      ],
      "metadata": {
        "id": "NaVN78pDjWdO"
      },
      "execution_count": null,
      "outputs": []
    },
    {
      "cell_type": "code",
      "source": [
        "shimla={\n",
        "    'mall':'shimla01',\n",
        "    'chota_shimla':'shimla02',\n",
        "    'khalini':'shimla03'\n",
        "}\n",
        "shimla.pop('mall')\n",
        "print(shimla)\n"
      ],
      "metadata": {
        "colab": {
          "base_uri": "https://localhost:8080/"
        },
        "id": "Uemi2iC8jq-i",
        "outputId": "bcd06973-86de-47de-fc8d-33b5d27019f9"
      },
      "execution_count": null,
      "outputs": [
        {
          "output_type": "stream",
          "name": "stdout",
          "text": [
            "{'chota_shimla': 'shimla02', 'khalini': 'shimla03'}\n"
          ]
        }
      ]
    },
    {
      "cell_type": "code",
      "source": [
        "# Given list of numbers tell the frequencies of number.\n",
        "a=[3,4,5,5,4,3,2,5,4,3,6,4,6,4,2,4,6,4]\n",
        "d={}\n",
        "for k in a:\n",
        "  if k in d:\n",
        "    d[k]=d[k]+1\n",
        "  else:\n",
        "    d[k]=1\n",
        "print(d)    \n"
      ],
      "metadata": {
        "colab": {
          "base_uri": "https://localhost:8080/"
        },
        "id": "tr_druFdnCds",
        "outputId": "57339739-56fb-4bec-ab2e-a98bceda6396"
      },
      "execution_count": null,
      "outputs": [
        {
          "output_type": "stream",
          "name": "stdout",
          "text": [
            "{3: 3, 4: 7, 5: 3, 2: 2, 6: 3}\n"
          ]
        }
      ]
    },
    {
      "cell_type": "code",
      "source": [
        " if elem not in tup:\n",
        "        return -1\n",
        "    return tup.index(elem)    \n",
        "    \n",
        "    print(\"Odd:\",tup[::2])\n",
        "    print(\"Even:\",tup[1::2])"
      ],
      "metadata": {
        "id": "AKidYBCBGdbA"
      },
      "execution_count": null,
      "outputs": []
    }
  ]
}