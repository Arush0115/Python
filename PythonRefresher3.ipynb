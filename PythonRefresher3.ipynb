{
  "nbformat": 4,
  "nbformat_minor": 0,
  "metadata": {
    "colab": {
      "provenance": [],
      "authorship_tag": "ABX9TyMMyujP9Ncsz9fNScYcw3Mo",
      "include_colab_link": true
    },
    "kernelspec": {
      "name": "python3",
      "display_name": "Python 3"
    },
    "language_info": {
      "name": "python"
    }
  },
  "cells": [
    {
      "cell_type": "markdown",
      "metadata": {
        "id": "view-in-github",
        "colab_type": "text"
      },
      "source": [
        "<a href=\"https://colab.research.google.com/github/Arush0115/Python/blob/master/PythonRefresher3.ipynb\" target=\"_parent\"><img src=\"https://colab.research.google.com/assets/colab-badge.svg\" alt=\"Open In Colab\"/></a>"
      ]
    },
    {
      "cell_type": "code",
      "execution_count": null,
      "metadata": {
        "id": "EzulRRRUaHIO"
      },
      "outputs": [],
      "source": [
        "#List comprehension\n",
        "#Pass by reference\n",
        "#tuple\n",
        "#Dictionary\n",
        "#Sets\n"
      ]
    },
    {
      "cell_type": "code",
      "source": [
        "#Given a string S,Create a list of all chracters of S\n",
        "n=input()\n",
        "chr=tuple(n)\n",
        "print(chr)"
      ],
      "metadata": {
        "colab": {
          "base_uri": "https://localhost:8080/"
        },
        "id": "KZYqs5pTarv4",
        "outputId": "136905ff-9c4d-45ee-b1cd-16c3823017fb"
      },
      "execution_count": 4,
      "outputs": [
        {
          "output_type": "stream",
          "name": "stdout",
          "text": [
            "hell\n",
            "('h', 'e', 'l', 'l')\n"
          ]
        }
      ]
    },
    {
      "cell_type": "code",
      "source": [
        "#List comprehension\n",
        "#Syntaxx: [expression for item in iterable]\n",
        "n=[ch for ch in n]\n",
        "print(n)"
      ],
      "metadata": {
        "colab": {
          "base_uri": "https://localhost:8080/"
        },
        "id": "-Wv5-D4Yb6X7",
        "outputId": "5aef755c-b1b5-49a9-8839-1943366c50a7"
      },
      "execution_count": 7,
      "outputs": [
        {
          "output_type": "stream",
          "name": "stdout",
          "text": [
            "['h', 'e', 'l', 'l']\n"
          ]
        }
      ]
    },
    {
      "cell_type": "code",
      "source": [
        "n=[n**2 for n in range(10,13,1)]\n",
        "print(n)"
      ],
      "metadata": {
        "colab": {
          "base_uri": "https://localhost:8080/"
        },
        "id": "dVwj0pE7dGbU",
        "outputId": "6d28ccdd-6c2d-45b7-e201-9dae97fe7f00"
      },
      "execution_count": 8,
      "outputs": [
        {
          "output_type": "stream",
          "name": "stdout",
          "text": [
            "[100, 121, 144]\n"
          ]
        }
      ]
    },
    {
      "cell_type": "code",
      "source": [
        "n=[num for num in range(100) if num%3==0 and num%5==0]\n",
        "print(n)"
      ],
      "metadata": {
        "colab": {
          "base_uri": "https://localhost:8080/"
        },
        "id": "1tPPxPy-dzHR",
        "outputId": "eb0b8b69-b108-4766-86d9-eb235da459ea"
      },
      "execution_count": 10,
      "outputs": [
        {
          "output_type": "stream",
          "name": "stdout",
          "text": [
            "[0, 15, 30, 45, 60, 75, 90]\n"
          ]
        }
      ]
    },
    {
      "cell_type": "code",
      "source": [
        "ls=['even' if n%2==0 else 'odd' for n in range(10)]\n",
        "print(ls)"
      ],
      "metadata": {
        "colab": {
          "base_uri": "https://localhost:8080/"
        },
        "id": "KW67A5M0ekvZ",
        "outputId": "2729463e-6ab7-4cd8-fa63-c581630a82e2"
      },
      "execution_count": 12,
      "outputs": [
        {
          "output_type": "stream",
          "name": "stdout",
          "text": [
            "['even', 'odd', 'even', 'odd', 'even', 'odd', 'even', 'odd', 'even', 'odd']\n"
          ]
        }
      ]
    },
    {
      "cell_type": "code",
      "source": [
        "#pass by reference [mutable]\n",
        "#Pass a variable to function where variable although different reference the same object\n",
        "\n",
        "#Pass by value\n",
        "#passing a variable to function where the variable are different are refer to different object"
      ],
      "metadata": {
        "id": "Yiu-0P78h3xK"
      },
      "execution_count": null,
      "outputs": []
    },
    {
      "cell_type": "code",
      "source": [
        "#Array vs list\n",
        "#Array-> list of homogenous items.  arr[1,4,3]\n",
        "#List->list of heterogenous items.  list[1,'hello',3,5]\n",
        "\n",
        "\n"
      ],
      "metadata": {
        "id": "5aanu50LjHXj"
      },
      "execution_count": null,
      "outputs": []
    },
    {
      "cell_type": "code",
      "source": [
        "#Tuples\n",
        "t=(1,2,3)\n",
        "print(t,type(t))"
      ],
      "metadata": {
        "colab": {
          "base_uri": "https://localhost:8080/"
        },
        "id": "vybxcPA17Nt-",
        "outputId": "a3a1f502-a2ee-47ab-e3d3-4055c876127b"
      },
      "execution_count": 1,
      "outputs": [
        {
          "output_type": "stream",
          "name": "stdout",
          "text": [
            "(1, 2, 3) <class 'tuple'>\n"
          ]
        }
      ]
    },
    {
      "cell_type": "code",
      "source": [
        "t=t*2\n",
        "print(t)"
      ],
      "metadata": {
        "colab": {
          "base_uri": "https://localhost:8080/"
        },
        "id": "kNRnAuCI7lAq",
        "outputId": "1503ee5f-fe5f-40b9-de2a-22e7bcaafe49"
      },
      "execution_count": 2,
      "outputs": [
        {
          "output_type": "stream",
          "name": "stdout",
          "text": [
            "(1, 2, 3, 1, 2, 3)\n"
          ]
        }
      ]
    },
    {
      "cell_type": "code",
      "source": [
        "a=3\n",
        "b=5\n",
        "a,b=b,a\n",
        "print(a,b)"
      ],
      "metadata": {
        "colab": {
          "base_uri": "https://localhost:8080/"
        },
        "id": "8hG4TORu7nu0",
        "outputId": "20b509d6-a9a4-48c2-eb5d-91bda073db01"
      },
      "execution_count": 3,
      "outputs": [
        {
          "output_type": "stream",
          "name": "stdout",
          "text": [
            "5 3\n"
          ]
        }
      ]
    },
    {
      "cell_type": "code",
      "source": [
        "#Dictionary\n",
        "d={}\n",
        "print(d,type(d))"
      ],
      "metadata": {
        "colab": {
          "base_uri": "https://localhost:8080/"
        },
        "id": "2EdSAS1h8tur",
        "outputId": "aa10186f-2025-49f8-9f95-9d96ed5f5f9a"
      },
      "execution_count": 4,
      "outputs": [
        {
          "output_type": "stream",
          "name": "stdout",
          "text": [
            "{} <class 'dict'>\n"
          ]
        }
      ]
    },
    {
      "cell_type": "code",
      "source": [
        "d={'maruti':'alto', 'hyundai':'santro', 'honda':'city'}\n",
        "print(d['maruti'])"
      ],
      "metadata": {
        "colab": {
          "base_uri": "https://localhost:8080/"
        },
        "id": "SmG3sJqN83OS",
        "outputId": "ef19b753-7327-46ab-8a51-a23b77414522"
      },
      "execution_count": 8,
      "outputs": [
        {
          "output_type": "stream",
          "name": "stdout",
          "text": [
            "alto\n"
          ]
        }
      ]
    },
    {
      "cell_type": "code",
      "source": [
        "d.update({\n",
        "    'bmw':'320d'\n",
        "})\n",
        "print(d)\n",
        "print(d.keys())\n",
        "print(d.values())"
      ],
      "metadata": {
        "colab": {
          "base_uri": "https://localhost:8080/"
        },
        "id": "FwYAwIIT9a3O",
        "outputId": "bc0da639-da83-4f9a-f1a5-c8e0887325b7"
      },
      "execution_count": 13,
      "outputs": [
        {
          "output_type": "stream",
          "name": "stdout",
          "text": [
            "{'maruti': 'alto', 'hyundai': 'santro', 'honda': 'city', 'bmw': '320d'}\n",
            "dict_keys(['maruti', 'hyundai', 'honda', 'bmw'])\n",
            "dict_values(['alto', 'santro', 'city', '320d'])\n"
          ]
        }
      ]
    },
    {
      "cell_type": "code",
      "source": [
        "for i in d:\n",
        "  print(i)"
      ],
      "metadata": {
        "colab": {
          "base_uri": "https://localhost:8080/"
        },
        "id": "g_BYr-jA9_vJ",
        "outputId": "1d58c307-0fda-4756-9bdf-fcbd237e3886"
      },
      "execution_count": 15,
      "outputs": [
        {
          "output_type": "stream",
          "name": "stdout",
          "text": [
            "maruti\n",
            "hyundai\n",
            "honda\n",
            "bmw\n"
          ]
        }
      ]
    },
    {
      "cell_type": "code",
      "source": [
        "#SETS \n",
        "#unordered collection of unique elements\n",
        "s={1}\n",
        "print(type(s))"
      ],
      "metadata": {
        "colab": {
          "base_uri": "https://localhost:8080/"
        },
        "id": "VjDJRqbpAXHy",
        "outputId": "2805431a-209a-4887-a645-57a68903acb2"
      },
      "execution_count": 16,
      "outputs": [
        {
          "output_type": "stream",
          "name": "stdout",
          "text": [
            "<class 'set'>\n"
          ]
        }
      ]
    },
    {
      "cell_type": "code",
      "source": [
        "s={1,2,3,4,3,2,4,2,5,6,44,5,4,5}\n",
        "print(s)"
      ],
      "metadata": {
        "colab": {
          "base_uri": "https://localhost:8080/"
        },
        "id": "NYu3MZyFAkdf",
        "outputId": "11fee2ea-86b0-401e-ab79-55afb9c769aa"
      },
      "execution_count": 17,
      "outputs": [
        {
          "output_type": "stream",
          "name": "stdout",
          "text": [
            "{1, 2, 3, 4, 5, 6, 44}\n"
          ]
        }
      ]
    },
    {
      "cell_type": "code",
      "source": [
        "for val in s:\n",
        "  print(val,end=' ')"
      ],
      "metadata": {
        "colab": {
          "base_uri": "https://localhost:8080/"
        },
        "id": "qDlPVR9sAw5Q",
        "outputId": "0077385b-1bff-419c-a54f-970876bb89e9"
      },
      "execution_count": 19,
      "outputs": [
        {
          "output_type": "stream",
          "name": "stdout",
          "text": [
            "1 2 3 4 5 6 44 "
          ]
        }
      ]
    },
    {
      "cell_type": "code",
      "source": [
        "s={1,2,3,4,3,2,4,2,5,6,44,5,4,5}\n",
        "s.remove(2)\n",
        "print(s)"
      ],
      "metadata": {
        "colab": {
          "base_uri": "https://localhost:8080/"
        },
        "id": "mHIOS9OmByWf",
        "outputId": "7bf8b9f9-6d76-4cf0-d1ee-421e326f09bc"
      },
      "execution_count": 22,
      "outputs": [
        {
          "output_type": "stream",
          "name": "stdout",
          "text": [
            "{1, 3, 4, 5, 6, 44}\n"
          ]
        }
      ]
    },
    {
      "cell_type": "code",
      "source": [
        "s.add(2)\n",
        "print(s)"
      ],
      "metadata": {
        "colab": {
          "base_uri": "https://localhost:8080/"
        },
        "id": "kH-jh74eB9eG",
        "outputId": "1532e873-c159-491e-e5f8-6a1afda443bb"
      },
      "execution_count": 23,
      "outputs": [
        {
          "output_type": "stream",
          "name": "stdout",
          "text": [
            "{1, 2, 3, 4, 5, 6, 44}\n"
          ]
        }
      ]
    }
  ]
}