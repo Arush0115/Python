{
  "nbformat": 4,
  "nbformat_minor": 0,
  "metadata": {
    "colab": {
      "provenance": [],
      "authorship_tag": "ABX9TyPFEiVRT+CRDSrv3SYS5oOp",
      "include_colab_link": true
    },
    "kernelspec": {
      "name": "python3",
      "display_name": "Python 3"
    },
    "language_info": {
      "name": "python"
    }
  },
  "cells": [
    {
      "cell_type": "markdown",
      "metadata": {
        "id": "view-in-github",
        "colab_type": "text"
      },
      "source": [
        "<a href=\"https://colab.research.google.com/github/Arush0115/Python/blob/master/p4%265Controlstatement1.ipynb\" target=\"_parent\"><img src=\"https://colab.research.google.com/assets/colab-badge.svg\" alt=\"Open In Colab\"/></a>"
      ]
    },
    {
      "cell_type": "code",
      "execution_count": null,
      "metadata": {
        "colab": {
          "base_uri": "https://localhost:8080/"
        },
        "id": "H_yu1t3l-cUI",
        "outputId": "9e82d5f2-6e79-438d-eb71-10bdcb8d06d3"
      },
      "outputs": [
        {
          "output_type": "stream",
          "name": "stdout",
          "text": [
            "a is smaller than 5\n"
          ]
        }
      ],
      "source": [
        "a=2\n",
        "if a>5:\n",
        "  print('a is greater than 5')\n",
        "else:\n",
        "  print('a is smaller than 5')  "
      ]
    },
    {
      "cell_type": "code",
      "source": [
        "print('arush'), print('cz')"
      ],
      "metadata": {
        "colab": {
          "base_uri": "https://localhost:8080/"
        },
        "id": "JKM36homJqvr",
        "outputId": "aac6f81b-e26c-4a46-e0c2-9f68e1cf0e4a"
      },
      "execution_count": null,
      "outputs": [
        {
          "output_type": "stream",
          "name": "stdout",
          "text": [
            "arush\n",
            "cz\n"
          ]
        },
        {
          "output_type": "execute_result",
          "data": {
            "text/plain": [
              "(None, None)"
            ]
          },
          "metadata": {},
          "execution_count": 3
        }
      ]
    },
    {
      "cell_type": "code",
      "source": [
        "a=int(input())\n",
        "if a**2:\n",
        "  print('a is massive')\n",
        "else:\n",
        "  print('a is small')\n",
        "#print('basic')    "
      ],
      "metadata": {
        "colab": {
          "base_uri": "https://localhost:8080/"
        },
        "id": "lxDEowHaLVcg",
        "outputId": "e0f53903-c308-4d80-c94b-0f13eb0bb9b5"
      },
      "execution_count": null,
      "outputs": [
        {
          "output_type": "stream",
          "name": "stdout",
          "text": [
            "5\n",
            "a is massive\n",
            "basic\n"
          ]
        }
      ]
    },
    {
      "cell_type": "code",
      "source": [
        "#password checking code\n",
        "a='Hello'\n",
        "b=input()\n",
        "if a==b:\n",
        "\n",
        "  print('Pasword correct')\n",
        "else:\n",
        "  print('incorrect password')\n"
      ],
      "metadata": {
        "colab": {
          "base_uri": "https://localhost:8080/"
        },
        "id": "QzuoKMWmLnce",
        "outputId": "53dcc56f-154c-4183-bdf0-57dc1cbb522d"
      },
      "execution_count": null,
      "outputs": [
        {
          "output_type": "stream",
          "name": "stdout",
          "text": [
            "Hello\n",
            "Pasword correct\n"
          ]
        }
      ]
    },
    {
      "cell_type": "code",
      "source": [
        "\n",
        "a=int(input())\n",
        "if a%500==0 or a%200==0:\n",
        "  print(\"discharge cash\")\n",
        "else:\n",
        "  print('dont discharge')  "
      ],
      "metadata": {
        "colab": {
          "base_uri": "https://localhost:8080/"
        },
        "id": "Ft9dDwFge3n1",
        "outputId": "e67c3815-c3d0-45fa-9623-324a7ad3b22c"
      },
      "execution_count": null,
      "outputs": [
        {
          "output_type": "stream",
          "name": "stdout",
          "text": [
            "900\n",
            "dont discharge\n"
          ]
        }
      ]
    },
    {
      "cell_type": "code",
      "source": [
        "t=int(input())\n",
        "if t>=0 and t<12:\n",
        "  print('Good morning')\n",
        "else:\n",
        "  if t>=13 and t<17:\n",
        "    print(\"Good afternoon\")\n",
        "  else:\n",
        "    if t>=18 and t<20:\n",
        "     print('good Evening')\n",
        "    else:\n",
        "      if t>=21 and t<24:\n",
        "        print('good night')\n",
        "      else:\n",
        "        print('bbzz')  \n",
        "         "
      ],
      "metadata": {
        "colab": {
          "base_uri": "https://localhost:8080/"
        },
        "id": "VlT27SLBg7w4",
        "outputId": "82e1cc31-bf5e-4011-9e4d-12fbd49c9111"
      },
      "execution_count": null,
      "outputs": [
        {
          "output_type": "stream",
          "name": "stdout",
          "text": [
            "29\n",
            "bbzz\n"
          ]
        }
      ]
    },
    {
      "cell_type": "code",
      "source": [
        "t=int(input())\n",
        "if t>=0 and t<12:\n",
        "  print('Good morning')\n",
        "elif t>=13 and t<17:\n",
        "  print(\"Good afternoon\")\n",
        "elif t>=18 and t<20:\n",
        "  print('good Evening')\n",
        "elif t>=21 and t<24:\n",
        "  print('good night')\n",
        "else:\n",
        "  print('bbzz')  "
      ],
      "metadata": {
        "id": "qG9-ZV3hkmO0"
      },
      "execution_count": null,
      "outputs": []
    },
    {
      "cell_type": "code",
      "source": [
        "A=int(input())\n",
        "B=int(input())\n",
        "if(A>B):\n",
        "    print(B)\n",
        "else:\n",
        "  print(A)   "
      ],
      "metadata": {
        "colab": {
          "base_uri": "https://localhost:8080/"
        },
        "id": "7b1asBtfZzxN",
        "outputId": "bf973a47-1458-4370-9cc9-33243dbb928a"
      },
      "execution_count": null,
      "outputs": [
        {
          "output_type": "stream",
          "name": "stdout",
          "text": [
            "4\n",
            "5\n",
            "4\n"
          ]
        }
      ]
    },
    {
      "cell_type": "code",
      "source": [
        "#control Statement-2\n",
        "a=int(input())\n",
        "if a>=0:\n",
        "  print('Positive')\n",
        "else:\n",
        "  print('-ve')\n"
      ],
      "metadata": {
        "colab": {
          "base_uri": "https://localhost:8080/"
        },
        "id": "oDg_CdCRmo-w",
        "outputId": "a0eaf5b1-63d3-4a02-9fde-9af00906184d"
      },
      "execution_count": null,
      "outputs": [
        {
          "output_type": "stream",
          "name": "stdout",
          "text": [
            "-7\n",
            "-ve\n"
          ]
        }
      ]
    },
    {
      "cell_type": "code",
      "source": [
        "num=int(input())\n",
        "if num>0 and num<9:\n",
        "  if num**5%50+20>15:\n",
        "    print('Black')\n",
        "  else:\n",
        "    print('BLUE')\n",
        "else:\n",
        "  print('invalid')   "
      ],
      "metadata": {
        "colab": {
          "base_uri": "https://localhost:8080/"
        },
        "id": "6VjAB9dcpIjm",
        "outputId": "712db558-9cc7-4eb1-ed9f-11280a56e694"
      },
      "execution_count": null,
      "outputs": [
        {
          "output_type": "stream",
          "name": "stdout",
          "text": [
            "5\n",
            "Black\n"
          ]
        }
      ]
    },
    {
      "cell_type": "code",
      "source": [
        "a=input()\n",
        "if a.lower() =='python':\n",
        "  print('great choice')\n",
        "else:\n",
        "  print('think again')  "
      ],
      "metadata": {
        "colab": {
          "base_uri": "https://localhost:8080/"
        },
        "id": "7AwCS8xdrYDD",
        "outputId": "407c6a79-6511-4bbf-9dc5-9a6bcfd3fa3e"
      },
      "execution_count": null,
      "outputs": [
        {
          "output_type": "stream",
          "name": "stdout",
          "text": [
            "pyThon\n",
            "great choice\n"
          ]
        }
      ]
    },
    {
      "cell_type": "code",
      "source": [
        "a=input()\n",
        "if a=='python' or a== 'Java':\n",
        "  print('WOw')\n",
        "else:\n",
        "  print('Are you living under a rock')  \n",
        "  "
      ],
      "metadata": {
        "colab": {
          "base_uri": "https://localhost:8080/"
        },
        "id": "4wECtz--tl4i",
        "outputId": "4215bd47-d7b6-4971-ca74-fdf5f585ebd8"
      },
      "execution_count": null,
      "outputs": [
        {
          "output_type": "stream",
          "name": "stdout",
          "text": [
            "Java\n",
            "WOw\n"
          ]
        }
      ]
    },
    {
      "cell_type": "code",
      "source": [
        "a=int(input())\n",
        "if a>0:\n",
        "  print('positive')\n",
        "elif a<0:\n",
        "  print('negative')\n",
        "else:\n",
        "  print('Zero')    "
      ],
      "metadata": {
        "colab": {
          "base_uri": "https://localhost:8080/"
        },
        "id": "7YrHPVFIvprE",
        "outputId": "0ad7a912-94fe-4049-ec43-4faa8a83d0dc"
      },
      "execution_count": null,
      "outputs": [
        {
          "output_type": "stream",
          "name": "stdout",
          "text": [
            "0\n",
            "Zero\n"
          ]
        }
      ]
    },
    {
      "cell_type": "code",
      "source": [
        "a=input()\n",
        "if a=='super' or a=='great' or a=='fantastic' or a=='awesome':\n",
        "  print('Thankyou so much')\n",
        "elif a=='':\n",
        "  print('please give feedback')  \n",
        "else:\n",
        "  print('thank you for providing feedback')  "
      ],
      "metadata": {
        "colab": {
          "base_uri": "https://localhost:8080/"
        },
        "id": "70iY_1sMxECc",
        "outputId": "314e45eb-8a66-47bf-95f3-459f01600129"
      },
      "execution_count": null,
      "outputs": [
        {
          "output_type": "stream",
          "name": "stdout",
          "text": [
            "fsdfsd\n",
            "thank you for providing feedback\n"
          ]
        }
      ]
    },
    {
      "cell_type": "code",
      "source": [
        "#Amazon\n",
        "N=int(input())\n",
        "if N%3==0:\n",
        "  print('FIZZ')\n",
        "elif N%5==0:\n",
        "  print(\"BUZZ\")\n",
        "   \n",
        "else:\n",
        "  print('FIZZBUZZ')    "
      ],
      "metadata": {
        "colab": {
          "base_uri": "https://localhost:8080/"
        },
        "id": "VEJn8TP9Jb-N",
        "outputId": "c106e28c-aba5-465e-8722-c073542a7377"
      },
      "execution_count": null,
      "outputs": [
        {
          "output_type": "stream",
          "name": "stdout",
          "text": [
            "6\n",
            "FIZZ\n"
          ]
        }
      ]
    },
    {
      "cell_type": "code",
      "source": [
        "E=int(input())\n",
        "M=int(input())\n",
        "S=int(input())\n",
        "T=E+M+S\n",
        "if T>75 and T<90:\n",
        "  print('Science')\n",
        "elif T>60 and T<75:\n",
        "  print('commerce')\n",
        "else:\n",
        "  print('humanities')      "
      ],
      "metadata": {
        "colab": {
          "base_uri": "https://localhost:8080/"
        },
        "id": "PdgskkCNO7--",
        "outputId": "9744fa08-33f9-4b9e-e74c-d593e8d326ff"
      },
      "execution_count": null,
      "outputs": [
        {
          "output_type": "stream",
          "name": "stdout",
          "text": [
            "96\n",
            "96\n",
            "96\n",
            "humanities\n"
          ]
        }
      ]
    },
    {
      "cell_type": "code",
      "source": [
        "K=int(input())\n",
        "W=int(input())\n",
        "if K<10:\n",
        "  print('10 rupees')\n",
        "elif K>10 and K<40:\n",
        "  print('9 rupees')\n",
        "elif K>40 and K<100:\n",
        "  print('8 rupees')   "
      ],
      "metadata": {
        "id": "0YmrTW44WnT8"
      },
      "execution_count": null,
      "outputs": []
    }
  ]
}