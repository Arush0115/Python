{
  "nbformat": 4,
  "nbformat_minor": 0,
  "metadata": {
    "colab": {
      "provenance": [],
      "authorship_tag": "ABX9TyMpxklCgU0R3mrwetz3lidU",
      "include_colab_link": true
    },
    "kernelspec": {
      "name": "python3",
      "display_name": "Python 3"
    },
    "language_info": {
      "name": "python"
    }
  },
  "cells": [
    {
      "cell_type": "markdown",
      "metadata": {
        "id": "view-in-github",
        "colab_type": "text"
      },
      "source": [
        "<a href=\"https://colab.research.google.com/github/Arush0115/Python/blob/master/P13_functions.ipynb\" target=\"_parent\"><img src=\"https://colab.research.google.com/assets/colab-badge.svg\" alt=\"Open In Colab\"/></a>"
      ]
    },
    {
      "cell_type": "code",
      "execution_count": null,
      "metadata": {
        "colab": {
          "base_uri": "https://localhost:8080/"
        },
        "id": "UD_LtYoqKeXr",
        "outputId": "93231af7-b745-4751-e477-3508a1c2de2a"
      },
      "outputs": [
        {
          "output_type": "stream",
          "name": "stdout",
          "text": [
            "boil some milk\n",
            "add sugar and tea\n",
            "add some milk\n",
            "Heat for a few minutes\n"
          ]
        }
      ],
      "source": [
        "def make_tea():\n",
        "  print('boil some milk')\n",
        "  print('add sugar and tea')\n",
        "  print('add some milk')\n",
        "  print('Heat for a few minutes')\n",
        "make_tea()  "
      ]
    },
    {
      "cell_type": "code",
      "source": [
        "def abc():\n",
        "  x=10\n",
        "  y=5\n",
        "  print(x+y)\n",
        "abc()  "
      ],
      "metadata": {
        "colab": {
          "base_uri": "https://localhost:8080/"
        },
        "id": "muSQjobKK6YL",
        "outputId": "820d35af-e274-4c6e-a139-4f5bb84d3df3"
      },
      "execution_count": null,
      "outputs": [
        {
          "output_type": "stream",
          "name": "stdout",
          "text": [
            "15\n"
          ]
        }
      ]
    },
    {
      "cell_type": "code",
      "source": [
        "def square(x):\n",
        "  print(x**3)\n",
        "  \n",
        "square(4)  "
      ],
      "metadata": {
        "colab": {
          "base_uri": "https://localhost:8080/"
        },
        "id": "cYSGuo68LK1d",
        "outputId": "cb1a9735-5525-4cfd-d19a-2e6127312408"
      },
      "execution_count": null,
      "outputs": [
        {
          "output_type": "stream",
          "name": "stdout",
          "text": [
            "64\n"
          ]
        }
      ]
    },
    {
      "cell_type": "code",
      "source": [
        "def add(a,b):\n",
        "  return a+b\n",
        "res=add(5,7)\n",
        "print('sum is ',res)  "
      ],
      "metadata": {
        "colab": {
          "base_uri": "https://localhost:8080/"
        },
        "id": "G5M-cMPpdhy4",
        "outputId": "62ce701f-905f-4ae7-d5aa-5f974212d110"
      },
      "execution_count": null,
      "outputs": [
        {
          "output_type": "stream",
          "name": "stdout",
          "text": [
            "sum is  12\n"
          ]
        }
      ]
    },
    {
      "cell_type": "code",
      "source": [
        "#multiply 2 no\n",
        "def multiply(x,y):\n",
        "  return x*y\n",
        "sum=multiply(3,4)\n",
        "print('multiplication of x and y is',sum)  "
      ],
      "metadata": {
        "colab": {
          "base_uri": "https://localhost:8080/"
        },
        "id": "Zzkg06Han9oC",
        "outputId": "f0c57292-b2d1-4f57-a5f1-c3cf2b17f1df"
      },
      "execution_count": null,
      "outputs": [
        {
          "output_type": "stream",
          "name": "stdout",
          "text": [
            "multiplication of x and y is 12\n"
          ]
        }
      ]
    },
    {
      "cell_type": "code",
      "source": [
        "def convert(t):\n",
        "    return t*9/5 + 32\n",
        "\n",
        "print(convert(20))"
      ],
      "metadata": {
        "colab": {
          "base_uri": "https://localhost:8080/"
        },
        "id": "xWC90le_uiSZ",
        "outputId": "455eafbf-717e-48b9-acd2-8eb5d29de066"
      },
      "execution_count": null,
      "outputs": [
        {
          "output_type": "stream",
          "name": "stdout",
          "text": [
            "68.0\n"
          ]
        }
      ]
    },
    {
      "cell_type": "code",
      "source": [
        "def power(number,exponent):\n",
        "  return number**exponent\n",
        "print(power(3,2)) "
      ],
      "metadata": {
        "colab": {
          "base_uri": "https://localhost:8080/"
        },
        "id": "cA-xG31Xyov4",
        "outputId": "6d6b8c21-9bb6-4d21-9b2b-71b934572baa"
      },
      "execution_count": null,
      "outputs": [
        {
          "output_type": "stream",
          "name": "stdout",
          "text": [
            "9\n"
          ]
        }
      ]
    },
    {
      "cell_type": "code",
      "source": [
        "def family(me,mother):\n",
        "  print('I myself',me)\n",
        "  print('My mother',mother)\n",
        "family('arush','mamta')  "
      ],
      "metadata": {
        "colab": {
          "base_uri": "https://localhost:8080/"
        },
        "id": "he8MUu1Y0ghJ",
        "outputId": "3b0b9cf9-ef22-4172-cfc1-33a449157d8b"
      },
      "execution_count": null,
      "outputs": [
        {
          "output_type": "stream",
          "name": "stdout",
          "text": [
            "I myself arush\n",
            "My mother mamta\n"
          ]
        }
      ]
    },
    {
      "cell_type": "code",
      "source": [
        "def names(me,mother):\n",
        "  names(me='arushk',mother='mamta')\n",
        "print(names)  \n",
        "    "
      ],
      "metadata": {
        "colab": {
          "base_uri": "https://localhost:8080/"
        },
        "id": "2f0Hb4X84yfA",
        "outputId": "a6c30ba0-fbb4-4e05-b2bc-f2937bd3ec03"
      },
      "execution_count": null,
      "outputs": [
        {
          "output_type": "stream",
          "name": "stdout",
          "text": [
            "<function names at 0x7fdc0a03f160>\n"
          ]
        }
      ]
    },
    {
      "cell_type": "code",
      "source": [
        "#keyword_arguments\n",
        "def random(a,b,c,d):\n",
        "  print(a,b,c,d)\n",
        "random(b=1,a=3,c=4,d=5)\n",
        "\n"
      ],
      "metadata": {
        "colab": {
          "base_uri": "https://localhost:8080/"
        },
        "id": "0-xOGWDQ6IhV",
        "outputId": "58075621-1bf2-44cc-8d1c-dfcc3598d29a"
      },
      "execution_count": null,
      "outputs": [
        {
          "output_type": "stream",
          "name": "stdout",
          "text": [
            "3 1 4 5\n"
          ]
        }
      ]
    },
    {
      "cell_type": "code",
      "source": [
        "#positional arguments\n",
        "random(1,5,d=4,c=6)"
      ],
      "metadata": {
        "id": "5E7rMhQS9gdy"
      },
      "execution_count": null,
      "outputs": []
    },
    {
      "cell_type": "code",
      "source": [
        "#default arguments\n",
        "def simple_interest(p,t,r=10):\n",
        "  return(p*t*r)/100\n",
        "simple_interest(100,2)  "
      ],
      "metadata": {
        "colab": {
          "base_uri": "https://localhost:8080/"
        },
        "id": "_kcRipAv-TJb",
        "outputId": "65f6549d-98e5-485e-a232-632f4ebf2138"
      },
      "execution_count": null,
      "outputs": [
        {
          "output_type": "execute_result",
          "data": {
            "text/plain": [
              "20.0"
            ]
          },
          "metadata": {},
          "execution_count": 19
        }
      ]
    },
    {
      "cell_type": "code",
      "source": [
        "def data_print(date,month,year,style=0):\n",
        "  if style==0:\n",
        "    print(date,month,year,sep='/')\n",
        "  elif style==1:\n",
        "    print(month,date,year,sep='/')\n",
        "  else:\n",
        "    print('Incorrect style')\n",
        "data_print(5,2,2022)    \n",
        "\n"
      ],
      "metadata": {
        "colab": {
          "base_uri": "https://localhost:8080/"
        },
        "id": "WWertp2GBHlv",
        "outputId": "c66b6db9-b4c9-4145-835c-d9c4e7c360fa"
      },
      "execution_count": null,
      "outputs": [
        {
          "output_type": "stream",
          "name": "stdout",
          "text": [
            "5/2/2022\n"
          ]
        }
      ]
    },
    {
      "cell_type": "code",
      "source": [
        "#scope\n",
        "#global variable\n",
        "chief_of_house='mother'\n",
        "def change_chef():\n",
        "  #local variable\n",
        "  chief_of_house='arush'\n",
        "  print('inside the function',chief_of_house)\n",
        "change_chef()\n",
        "print('outside the fucntion',chief_of_house)  "
      ],
      "metadata": {
        "colab": {
          "base_uri": "https://localhost:8080/"
        },
        "id": "WtB9iMMnGCZr",
        "outputId": "72173430-51fb-4c6d-d5c3-45b0a6052849"
      },
      "execution_count": null,
      "outputs": [
        {
          "output_type": "stream",
          "name": "stdout",
          "text": [
            "inside the function arush\n",
            "outside the fucntion mother\n"
          ]
        }
      ]
    }
  ]
}